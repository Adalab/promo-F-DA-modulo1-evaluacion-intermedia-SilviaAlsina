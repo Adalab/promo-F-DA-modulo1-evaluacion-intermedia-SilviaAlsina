{
 "cells": [
  {
   "cell_type": "markdown",
   "metadata": {},
   "source": [
    "# Parte 1: Strings #"
   ]
  },
  {
   "cell_type": "code",
   "execution_count": null,
   "metadata": {},
   "outputs": [],
   "source": [
    "#1. Dada una cadena de texto, contar cuántas veces aparece una letra específica en ella. \n",
    "# Usa un input para que el usuario elija la letra a buscar.\n",
    "cadena = \"Python es un lenguaje de programación muy popular\"\n",
    "#Ahora vya a crear el input para que e introduzca la letra a buscar\n",
    "letra=input(\"Introduce la letra que quieras buscar\").lower()\n",
    "cadena=cadena.lower()\n",
    "#He convertido ambas variables a cadenas de texto de sólo minus para que la primera letra de la frase se incluya\n",
    "#Ahora voy a crear el print que indique el número de veces que aparece la letra en la frase\n",
    "print(f\"La letra {letra} se repite {cadena.count(letra)} veces\")"
   ]
  },
  {
   "cell_type": "code",
   "execution_count": null,
   "metadata": {},
   "outputs": [],
   "source": [
    "#2. Escribe un programa que tome la siguiente cadena de texto y reemplace una palabra específica por otra palabra. \n",
    "# La palabra a reemplazar y reemplazada deben ser elegidas por el usuario.\n",
    "cadena = \"Python es genial. Python es fácil de aprender.\"\n",
    "#input de la palabra a reemplazar\n",
    "reemplazar=input(f\"Elija la palabra que desee remplazar en la frase '{cadena}'\").capitalize()\n",
    "#input de la palabra reemplazada\n",
    "reemplazada=input(\"Introduzca la palabra que desea añadir\").lower()\n",
    "#print del cambio\n",
    "cadena=cadena.replace(reemplazar,reemplazada)\n",
    "print(cadena.capitalize())"
   ]
  },
  {
   "cell_type": "code",
   "execution_count": null,
   "metadata": {},
   "outputs": [],
   "source": [
    "#3. Toma la siguiente oración y divídela en una lista de palabras. \n",
    "# Luego, únelas nuevamente en una sola cadena de texto.\n",
    "oracion = \"Esto es una oración de ejemplo\"\n",
    "#La convierto a lista de palabras\n",
    "oracion=oracion.split()\n",
    "print(oracion)\n",
    "#La convierto a cadena de texto sin y con expacios\n",
    "oracion1=\"\".join(oracion)\n",
    "print(oracion1)\n",
    "oracion2=\" \".join(oracion)\n",
    "print(oracion2)\n"
   ]
  },
  {
   "cell_type": "code",
   "execution_count": null,
   "metadata": {},
   "outputs": [],
   "source": [
    "#4. Desarrolla un programa que cuente cuántas palabras hay en la siguiente frase.\n",
    "cadena = \"Esta es una cadena con cinco palabras\"\n",
    "#Primero voy a convertir la frase en una lista de palabras\n",
    "lista=cadena.split()\n",
    "#Usaré el len() para contar cuantos objetos (palabras) hay en la lista\n",
    "longitud=len(lista)\n",
    "#imprimo la el número de palabras\n",
    "print(f\"La frase '{cadena}' tiene {longitud} palabras\")"
   ]
  },
  {
   "cell_type": "code",
   "execution_count": null,
   "metadata": {},
   "outputs": [],
   "source": [
    "#5. Escribe un programa que invierta una cadena de texto dada por un usuario. Mira el siguiente ejemplo para \n",
    "# entender lo que se pide:\n",
    "frase=input(\"Escriba la frase que desee invertir:\")\n",
    "#Convertiré la frase en una lista\n",
    "lista=frase.split()\n",
    "print(lista)\n",
    "#Invierto la frase\n",
    "lista.reverse()\n",
    "print(lista)\n",
    "#Convierto la lista en una frase y la muestro\n",
    "frase=\" \".join(lista)\n",
    "print(frase)"
   ]
  },
  {
   "cell_type": "code",
   "execution_count": null,
   "metadata": {},
   "outputs": [],
   "source": [
    "#6. Crea un programa que busque una palabra específica(elegida por la usuaria) \n",
    "# en una cadena de texto e indique su posición.\n",
    "frase=\"En un lugar de la Mancha de cuyo nombre no quiero acordarme no ha mucho tiempo que vivía un hidalgo de los de lanza en astillero adarga antigua rocín flaco y galgo corredor\"\n",
    "palabra=input(f\"Elija la palabra que desee buscar en la frase 'En un lugar de la Mancha, de cuyo nombre no quiero acordarme, no ha mucho tiempo que vivía un hidalgo de los de lanza en astillero, adarga antigua, rocín flaco y galgo corredor.'\")\n",
    "#Convierto la cadena de texto en una lista\n",
    "lista=frase.split()\n",
    "#uso index para buscar la priera aparicion de la palabra\n",
    "numero=lista.index(palabra)\n",
    "print(f\"En la frase la palabra '{palabra}' aparece en la posicion {numero}\")"
   ]
  },
  {
   "cell_type": "markdown",
   "metadata": {},
   "source": [
    "# Parte 2: Listas #"
   ]
  },
  {
   "cell_type": "code",
   "execution_count": null,
   "metadata": {},
   "outputs": [],
   "source": [
    "#1. Dada la siguiente lista: frutas = ['manzana', 'pera', 'banana', 'uva', 'kiwi'], realiza lo siguiente:\n",
    "    #a) Reemplaza el segundo elemento con 'durazno'.\n",
    "    #b) Agrega 'naranja' al final de la lista.\n",
    "    #c) Extrae y muestra por pantalla el tercer elemento de la lista.\n",
    "frutas=[\"manzana\",\"pera\",\"banana\",\"uva\",\"kiwi\"]\n",
    "#a) usaré primero pop para eliminar el segundo elemento y luego insert para insertar el nuevo\n",
    "frutas.pop(1)\n",
    "frutas.insert(1,\"durazno\")\n",
    "print(frutas)\n",
    "#b) usaré append\n",
    "frutas.append(\"naranja\")\n",
    "print(frutas)\n",
    "#c) \n",
    "print(frutas[2])"
   ]
  },
  {
   "cell_type": "code",
   "execution_count": null,
   "metadata": {},
   "outputs": [],
   "source": [
    "#2. Crea una lista llamada numeros que contenga los siguientes valores: 10, 25, 15, 30, 20.\n",
    "numeros=[10,25,15,30,20]\n",
    "print(numeros)"
   ]
  },
  {
   "cell_type": "code",
   "execution_count": null,
   "metadata": {},
   "outputs": [],
   "source": [
    "#3. Agrega el valor 35 al incio de la lista numeros.\n",
    "#Voy a usar insert\n",
    "numeros.insert(0,35)\n",
    "print(numeros)"
   ]
  },
  {
   "cell_type": "code",
   "execution_count": null,
   "metadata": {},
   "outputs": [],
   "source": [
    "#4. Ordena la lista numeros en orden ascendente\n",
    "#Usaré sort\n",
    "numeros.sort()\n",
    "print(numeros)"
   ]
  },
  {
   "cell_type": "code",
   "execution_count": null,
   "metadata": {},
   "outputs": [],
   "source": [
    "#5. Dada la siguiente lista numeros2 = [45, 22, 19, 38, 29]. Crea una nueva lista llamada numeros3 donde tengamos \n",
    "#la unión de los todos los elementos de las dos listas (numeros y numeros2) de tal forma que el resultado final sea:\n",
    "#numeros3 = [10, 25, 15, 30, 20, 45, 22, 19, 38, 29]\n",
    "numeros2 = [45, 22, 19, 38, 29]\n",
    "numeros3=numeros+numeros2\n",
    "print(numeros3)"
   ]
  },
  {
   "cell_type": "code",
   "execution_count": null,
   "metadata": {},
   "outputs": [],
   "source": [
    "#6. Elimina el último elemento de la lista numeros3\n",
    "#usaré pop\n",
    "numeros3.pop(-1)\n",
    "print(numeros3)"
   ]
  },
  {
   "cell_type": "code",
   "execution_count": null,
   "metadata": {},
   "outputs": [],
   "source": [
    "#7.Elimina el número 30 de la lista numeros3.\n",
    "numeros3.remove(30)\n",
    "print(numeros3)"
   ]
  },
  {
   "cell_type": "markdown",
   "metadata": {},
   "source": [
    "# Parte 3: Tuplas #"
   ]
  },
  {
   "cell_type": "code",
   "execution_count": null,
   "metadata": {},
   "outputs": [],
   "source": [
    "#1. Crea una tupla llamada colores que contenga los siguientes valores: 'rojo', 'verde', 'azul', 'amarillo', 'morado'.\n",
    "colores=(\"rojo\",\"verde\",\"azul\",\"amarillo\",\"morado\")\n",
    "print(colores)"
   ]
  },
  {
   "cell_type": "code",
   "execution_count": null,
   "metadata": {},
   "outputs": [],
   "source": [
    "#2.Encuentra el índice de 'verde' en la tupla colores.\n",
    "print(colores.index(\"verde\"))"
   ]
  },
  {
   "cell_type": "code",
   "execution_count": null,
   "metadata": {},
   "outputs": [],
   "source": [
    "#3. ¿Cuántas veces aparece 'azul' en la tupla colores?\n",
    "print(colores.count(\"azul\"))"
   ]
  },
  {
   "cell_type": "code",
   "execution_count": null,
   "metadata": {},
   "outputs": [],
   "source": [
    "#4.Añade el color \"morado\" a la tupla colores. ¿Qué ha pasado? ¿Por qué? \n",
    "#Como podríamos añadir el elemento \"morado\".\n",
    "#colores.append(\"morado\")\n",
    "#Esto nos va a dar error, ya que una tupla, en principio, no se podría modificar.\n",
    "#Para agregar un elemento primero había que convertir la tupla a lista\n",
    "colores=list(colores)\n",
    "print(colores)\n",
    "#ahora añadimos el \"morado\"\n",
    "colores.append(\"morado\")\n",
    "print(colores)\n",
    "#Volvemos a convertir la lista en tupla\n",
    "colores=tuple(colores)\n",
    "print(colores)"
   ]
  },
  {
   "cell_type": "markdown",
   "metadata": {},
   "source": [
    "# Parte 4: Diccionarios #"
   ]
  },
  {
   "cell_type": "code",
   "execution_count": null,
   "metadata": {},
   "outputs": [],
   "source": [
    "#1. Crea un diccionario llamado frutas con las siguientes parejas clave-valor:\n",
    "    #'manzana': 2\n",
    "    #'banana': 3\n",
    "    #'uva': 5\n",
    "    #'pera': 4\n",
    "frutas={\"manzana\":2,\"banana\":3,\"uva\":5,\"pera\":4}\n",
    "print(frutas)"
   ]
  },
  {
   "cell_type": "code",
   "execution_count": null,
   "metadata": {},
   "outputs": [],
   "source": [
    "#2. Saca una lista de todas las frutas en el diccionario.\n",
    "frutas.keys()"
   ]
  },
  {
   "cell_type": "code",
   "execution_count": null,
   "metadata": {},
   "outputs": [],
   "source": [
    "#3. Saca una lista de todas las cantidades en el diccionario.\n",
    "frutas.values()"
   ]
  },
  {
   "cell_type": "code",
   "execution_count": null,
   "metadata": {},
   "outputs": [],
   "source": [
    "#4.¿Qué cantidad de 'manzana' tenemos?. Si la clave 'manzana' no está presente, devuelve un mensaje diciendo \n",
    "#\"No existe esa clave\".\n",
    "frutas.get(\"manzana\",\"No existe esa clave\")"
   ]
  },
  {
   "cell_type": "code",
   "execution_count": null,
   "metadata": {},
   "outputs": [],
   "source": [
    "#5. Agrega un nuevo par de clave-valor al diccionario frutas: 'kiwi' con una cantidad de 6.\n",
    "#primero creo otro diccionario\n",
    "kiwi={\"kiwi\":6}\n",
    "#ahora añado el diccionario kiwi a frutas\n",
    "frutas.update(kiwi)\n",
    "print(frutas)"
   ]
  },
  {
   "cell_type": "code",
   "execution_count": null,
   "metadata": {},
   "outputs": [],
   "source": [
    "#6.Cambia la cantidad de 'uva' a 8.\n",
    "frutas[\"uva\"]=8\n",
    "print(frutas)"
   ]
  },
  {
   "cell_type": "code",
   "execution_count": null,
   "metadata": {},
   "outputs": [],
   "source": [
    "#7. Crea un segundo diccionario llamado frutas_nuevas con las siguientes parejas clave-valor:\n",
    "    #'sandía': 7\n",
    "    #'mango': 4\n",
    "frutas_nuevas={'sandía': 7,'mango': 4}\n",
    "print(frutas_nuevas)"
   ]
  },
  {
   "cell_type": "code",
   "execution_count": null,
   "metadata": {},
   "outputs": [],
   "source": [
    "#8. Combinar los dos diccionarios frutas_nuevas y frutas en uno nuevos llamado frutas_total.\n",
    "#primero creo el diccionario frutas_total\n",
    "frutas_total={}\n",
    "#ahora le añado frutas\n",
    "frutas_total.update(frutas)\n",
    "print(frutas_total)\n",
    "#por último le añado fruitas_nuevas\n",
    "frutas_total.update(frutas_nuevas)\n",
    "print(frutas_total)"
   ]
  },
  {
   "cell_type": "code",
   "execution_count": null,
   "metadata": {},
   "outputs": [],
   "source": [
    "#9. Elimina el último par de clave-valor del diccionario fruta_total.\n",
    "frutas_total.popitem()\n",
    "print(frutas_total)"
   ]
  },
  {
   "cell_type": "code",
   "execution_count": null,
   "metadata": {},
   "outputs": [],
   "source": [
    "#10. Elimina el par de clave-valor correspondiente a la clave 'uva' del diccionario.\n",
    "frutas_total.pop(\"uva\")\n",
    "print(frutas_total)"
   ]
  },
  {
   "cell_type": "code",
   "execution_count": null,
   "metadata": {},
   "outputs": [],
   "source": [
    "#11. Agregar la fruta 'manzana' con una cantidad de 10 al diccionario. Si ya existe, no se realizarán \n",
    "#cambios en los valores que teníamos.\n",
    "manzana={\"manzana\":10}\n",
    "frutas_total.setdefault(\"manzana\",10)\n",
    "print(frutas_total)"
   ]
  },
  {
   "cell_type": "code",
   "execution_count": null,
   "metadata": {},
   "outputs": [],
   "source": [
    "#12. Combinar métodos de listas y diccionarios:\n",
    "    #· Obtén una lista de todas las cantidades en el diccionario y calcula suma total de las cantidades del \n",
    "    #  diccionario frutas_total.\n",
    "    #· Utilizando la lista creada en el apartado anterior encuentra la cantidad más grande y más pequeña.\n",
    "#primero voya a crear la lista de valores para poder sumarla\n",
    "valores=frutas_total.values()\n",
    "suma=sum(valores)\n",
    "print(suma)\n",
    "#ahora sacaré el valor máximo de la lista\n",
    "max(valores)"
   ]
  },
  {
   "cell_type": "markdown",
   "metadata": {},
   "source": [
    "# Parte 5: Métodos de Sets #"
   ]
  },
  {
   "cell_type": "code",
   "execution_count": null,
   "metadata": {},
   "outputs": [],
   "source": [
    "#1. Crea un set llamado conjunto1 con los números del 1 al 5.\n",
    "conjunto1={1,2,3,4,5}"
   ]
  },
  {
   "cell_type": "code",
   "execution_count": null,
   "metadata": {},
   "outputs": [],
   "source": [
    "#2. Crea otro set llamado conjunto2 con los números del 4 al 8.\n",
    "conjunto2={4,5,6,7,8}"
   ]
  },
  {
   "cell_type": "code",
   "execution_count": null,
   "metadata": {},
   "outputs": [],
   "source": [
    "#3. Obtén la unión de conjunto1 y conjunto2.\n",
    "conjunto1.union(conjunto2)"
   ]
  },
  {
   "cell_type": "code",
   "execution_count": null,
   "metadata": {},
   "outputs": [],
   "source": [
    "#4. Obtén la intersección de conjunto1 y conjunto2.\n",
    "conjunto1.intersection(conjunto2)"
   ]
  },
  {
   "cell_type": "code",
   "execution_count": null,
   "metadata": {},
   "outputs": [],
   "source": [
    "#5. Obtén los elementos que están en conjunto1 pero no en el conjunto2.\n",
    "conjunto1.difference(conjunto2)"
   ]
  },
  {
   "cell_type": "markdown",
   "metadata": {},
   "source": [
    "# Parte 6: Sentencias de Control #"
   ]
  },
  {
   "cell_type": "markdown",
   "metadata": {},
   "source": [
    "**Evaluación de Edades:**"
   ]
  },
  {
   "cell_type": "code",
   "execution_count": null,
   "metadata": {},
   "outputs": [],
   "source": [
    "#1.  Escribe un programa que solicite al usuario ingresar su edad.\n",
    "    #· Si la edad es menor de 18, muestra \"Eres menor de edad\".\n",
    "    #· Si la edad está entre 18 y 65 (incluyendo ambos extremos), muestra \"Eres adulto\".\n",
    "    #· Si la edad es mayor o igual a 65, muestra \"Eres un adulto mayor\".\n",
    "#primero crearé el input para que el usuario ingrese su edad\n",
    "edad=int(input(\"Por favor, ingrese su edad\"))\n",
    "#ahora comenzaré a crear los condicionales\n",
    "if edad<18:\n",
    "    print(\"Eres menor de edad\")\n",
    "elif edad<=65:\n",
    "    print(\"Eres adulto\")\n",
    "elif edad>65:\n",
    "    print(\"Eres un adulto mayor\")\n",
    "else:\n",
    "    print(\"Por favor, recuerde que debe introducir un dígito\")"
   ]
  },
  {
   "cell_type": "markdown",
   "metadata": {},
   "source": [
    "**Determinación de Día de la Semana**"
   ]
  },
  {
   "cell_type": "code",
   "execution_count": null,
   "metadata": {},
   "outputs": [],
   "source": [
    "#2. Solicita al usuario que ingrese un número del 1 al 7.\n",
    "    #Utilizando una serie de if-elif-else, muestra el día de la semana correspondiente al número ingresado. \n",
    "#Primero crearé el input\n",
    "numero=int(input(\"Por favor, introduzca un número del 1 al 7\"))\n",
    "#ahora voy a empezar a crear los if\n",
    "if numero==1:\n",
    "    print(\"Lunes\")\n",
    "elif numero==2:\n",
    "    print(\"Martes\")\n",
    "elif numero==3:\n",
    "    print(\"Miércoles\")\n",
    "elif numero==4:\n",
    "    print(\"Jueves\")\n",
    "elif numero==5:\n",
    "    print(\"Viernes\")\n",
    "elif numero==6:\n",
    "    print(\"Sábado\")\n",
    "elif numero==7:\n",
    "    print(\"Domingo\")\n",
    "else:\n",
    "    print(\"Por favor, recuerde que debe introducir un dígito entre el 1 y el 7\")"
   ]
  },
  {
   "cell_type": "markdown",
   "metadata": {},
   "source": [
    "**Juego de Adivinanza**"
   ]
  },
  {
   "cell_type": "code",
   "execution_count": null,
   "metadata": {},
   "outputs": [],
   "source": [
    "#3. Genera un número aleatorio entre 1 y 100.\n",
    "    # · Pídele al usuario que adivine el número.\n",
    "    # · Si el usuario adivina correctamente en el primer intento, muestra \"¡Ganaste en el primer intento!\".\n",
    "    # · Si el usuario no adivina en el primer intento, bríndale pistas (mayor o menor) y permite que intente \n",
    "    # nuevamente. Muestra cuántos intentos le llevó al final.\n",
    "#primero voy a importar la función random y a crear varias variables que usaré más adelante\n",
    "import random\n",
    "intentos=1\n",
    "#ahora generaré un número random entre el 1 y el 100\n",
    "num_random=random.randrange(1,100)\n",
    "#a continuación crearé el primer imput\n",
    "preguntas=int(input(\"Introduzca un número del 1 al 100\"))\n",
    "#ahora crearé el primer if si lo acierta\n",
    "if num_random==preguntas:\n",
    "    print(\"¡Ganaste en el primer intento!\")\n",
    "else:\n",
    "    #ahora crearé un bucle while que se irá repitiendo hasta que acierte\n",
    "    while num_random!=preguntas:\n",
    "        print(\"No has acertado\")\n",
    "        #Ahora haré que se indique si el número era mayor o menor\n",
    "        if preguntas<num_random:\n",
    "            print(f\"El número {preguntas} es menor que el número a adivinar\")\n",
    "        else:\n",
    "            print(f\"El número {preguntas} es mayor que el número a adivinar\")\n",
    "        #Ahora reformularé la pregunta\n",
    "        preguntas=int(input(\"Introduzca un número del 1 al 100\"))\n",
    "        #Voy a indicar que se suma un intento cada vez que se recorra el bucle\n",
    "        intentos+=1\n",
    "    #una vez lo adivine, se saldrá del bucle y mostrará lo siguiente\n",
    "    print(f\"¡Enhorabuena! el número era {num_random} y lo has acertado en el intento {intentos}\")\n"
   ]
  },
  {
   "cell_type": "markdown",
   "metadata": {},
   "source": [
    "**Juego de Adivinar la Palabra** **HAY DOS VERSIONES**"
   ]
  },
  {
   "cell_type": "code",
   "execution_count": null,
   "metadata": {},
   "outputs": [],
   "source": [
    "#4. Elige una palabra secreta y ocúltala utilizando asteriscos, por ejemplo, \"secreto\" se muestra como \"*******\".\n",
    "    # Permite al usuario adivinar letras una por una.\n",
    "    # Si la letra adivinada está en la palabra secreta, muestra la palabra con las letras descubiertas y los asteriscos.\n",
    "    # Si la letra no está en la palabra secreta, resta una vida al jugador.\n",
    "    # El juego continúa hasta que el jugador adivine la palabra.\n",
    "#primero voy a elegir la palabra \"python\" y la guardaré en un diccionario donde la clave sea las letras de la palabra y los valores * y crearé la variable vida del jugador\n",
    "palabra_secreta={\"p\":\"*\",\"y\":\"*\",\"t\":\"*\",\"h\":\"*\",\"o\":\"*\",\"n\":\"*\"}\n",
    "vida=10\n",
    "#Ahora voy a crear una variable que esté formada por los values de palabra_secreta en forma de str\n",
    "respuesta=\"\".join(palabra_secreta.values())\n",
    "#Voy a crear un bucle while que se repita hasta que la palabra no sea adivinada\n",
    "while respuesta!=\"python\" and vida>=1:\n",
    "    #ahora crearé la pregunta\n",
    "    pregunta=input(\"Introduce una letra que pueda estar en la palabra\").lower()\n",
    "    #voy a crear los condicionales si la letra está o no\n",
    "    if pregunta in palabra_secreta:\n",
    "        #Ahora sustituiré el valor * por la letra adivinada\n",
    "        palabra_secreta[pregunta]=pregunta\n",
    "        respuesta=\"\".join(palabra_secreta.values())\n",
    "        print(respuesta)\n",
    "        print(f\"Te quedan {vida} vidas\")\n",
    "    else:\n",
    "        print(\"Esa letra no se encuentra en la palabra\")\n",
    "        #Aquí iré restando una vida cada vez que falle una letra\n",
    "        vida-=1\n",
    "        print(f\"Te quedan {vida} vidas\")\n",
    "#Ahora voy a crear los dos condicionales posibles, si gana o pierde\n",
    "if vida==0:\n",
    "    print(\"Se te acabaron las vidas\")\n",
    "else:\n",
    "    print(f\"¡Enhorabuena!, la palabra era {respuesta}, acabaste con  {vida} vidas\")"
   ]
  },
  {
   "cell_type": "code",
   "execution_count": null,
   "metadata": {},
   "outputs": [],
   "source": [
    "#4 igual que el anterior, pero otro jugador elige una palabra\n",
    "secreto=input(\"Introduce la palabra secreta(Sin letras repetidas y sin tildes)\")\n",
    "palabra_secreta=dict.fromkeys(secreto,\"*\")\n",
    "vida=10\n",
    "#Ahora voy a crear una variable que esté formada por los values de palabra_secreta en forma de str\n",
    "respuesta=0\n",
    "#Voy a crear un bucle while que se repita hasta que la palabra no sea adivinada\n",
    "while respuesta!=secreto and vida>=1:\n",
    "    #ahora crearé la pregunta\n",
    "    pregunta=input(\"Introduce una letra que pueda estar en la palabra\").lower()\n",
    "    #voy a crear los condicionales si la letra está o no\n",
    "    if pregunta in palabra_secreta:\n",
    "        #Ahora sustituiré el valor * por la letra adivinada\n",
    "        palabra_secreta[pregunta]=pregunta\n",
    "        respuesta=\"\".join(palabra_secreta.values())\n",
    "        print(respuesta)\n",
    "        print(f\"Te quedan {vida} vidas\")\n",
    "    else:\n",
    "        print(\"Esa letra no se encuentra en la palabra\")\n",
    "        #Aquí iré restando una vida cada vez que falle una letra\n",
    "        vida-=1\n",
    "        print(f\"Te quedan {vida} vidas\")\n",
    "#Ahora voy a crear los dos condicionales posibles, si gana o pierde\n",
    "if vida==0:\n",
    "    print(\"Se te acabaron las vidas\")\n",
    "else:\n",
    "    print(f\"¡Enhorabuena!, la palabra era {respuesta}, acabaste con  {vida} vidas\")"
   ]
  }
 ],
 "metadata": {
  "kernelspec": {
   "display_name": "base",
   "language": "python",
   "name": "python3"
  },
  "language_info": {
   "codemirror_mode": {
    "name": "ipython",
    "version": 3
   },
   "file_extension": ".py",
   "mimetype": "text/x-python",
   "name": "python",
   "nbconvert_exporter": "python",
   "pygments_lexer": "ipython3",
   "version": "3.10.9"
  }
 },
 "nbformat": 4,
 "nbformat_minor": 2
}
